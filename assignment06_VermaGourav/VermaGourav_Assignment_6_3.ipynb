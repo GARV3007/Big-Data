{
 "cells": [
  {
   "cell_type": "markdown",
   "metadata": {},
   "source": [
    "# Assignment 6.3\n",
    "## Using a pretrained convnet\n",
    "### Gourav Verma"
   ]
  },
  {
   "cell_type": "code",
   "execution_count": 1,
   "metadata": {},
   "outputs": [
    {
     "name": "stdout",
     "output_type": "stream",
     "text": [
      "Collecting opencv-python\n",
      "  Downloading opencv_python-4.5.1.48-cp38-cp38-manylinux2014_x86_64.whl (50.4 MB)\n",
      "\u001b[K     |████████████████████████████████| 50.4 MB 25 kB/s s eta 0:00:01   |▋                               | 921 kB 4.3 MB/s eta 0:00:12\n",
      "\u001b[?25hRequirement already satisfied: numpy>=1.17.3 in /opt/conda/lib/python3.8/site-packages (from opencv-python) (1.18.5)\n",
      "Installing collected packages: opencv-python\n",
      "Successfully installed opencv-python-4.5.1.48\n",
      "Note: you may need to restart the kernel to use updated packages.\n"
     ]
    }
   ],
   "source": [
    "pip install opencv-python"
   ]
  },
  {
   "cell_type": "code",
   "execution_count": 1,
   "metadata": {},
   "outputs": [
    {
     "name": "stdout",
     "output_type": "stream",
     "text": [
      "gecko.jpg\n",
      "sophie.jpg\n",
      "sushi.jpg\n",
      "foster_lab.JPG\n",
      "mimosa.jpg\n",
      "emmetts_new_tooth.jpg\n",
      "trex.jpg\n",
      "gremlin.jpg\n"
     ]
    }
   ],
   "source": [
    "from tensorflow.keras.applications.resnet50 import ResNet50\n",
    "from tensorflow.keras.preprocessing import image\n",
    "from tensorflow.keras.applications.resnet50 import preprocess_input, decode_predictions\n",
    "import numpy as np\n",
    "import os, cv2\n",
    "\n",
    "model = ResNet50(weights='imagenet')\n",
    "\n",
    "img_path = 'images'\n",
    "\n",
    "# image_datagen = image.ImageDataGenerator(rescale=1./255)\n",
    "# image_generator = image_datagen.flow_from_directory(img_path, \n",
    "#                                                     target_size=(224,224), \n",
    "#                                                     batch_size=10)\n",
    "\n",
    "images = os.listdir(img_path)\n",
    "\n",
    "for i,name in enumerate(images):\n",
    "    print(name)\n",
    "\n"
   ]
  },
  {
   "cell_type": "code",
   "execution_count": 8,
   "metadata": {},
   "outputs": [
    {
     "name": "stdout",
     "output_type": "stream",
     "text": [
      "('gecko.jpg', [('n01698640', 'American_alligator', 0.5544625), ('n01580077', 'jay', 0.16758372), ('n04380533', 'table_lamp', 0.04392017)])\n",
      "('sophie.jpg', [('n02091134', 'whippet', 0.35501236), ('n02107312', 'miniature_pinscher', 0.17849797), ('n02088632', 'bluetick', 0.043396235)])\n",
      "('sushi.jpg', [('n03623198', 'knee_pad', 0.08567188), ('n03127747', 'crash_helmet', 0.03893309), ('n03991062', 'pot', 0.028010018)])\n",
      "('foster_lab.JPG', [('n02109047', 'Great_Dane', 0.39499673), ('n02099712', 'Labrador_retriever', 0.2845668), ('n02092339', 'Weimaraner', 0.14442298)])\n",
      "('mimosa.jpg', [('n03443371', 'goblet', 0.6548889), ('n03179701', 'desk', 0.08665115), ('n07932039', 'eggnog', 0.058719847)])\n",
      "('emmetts_new_tooth.jpg', [('n04447861', 'toilet_seat', 0.5422056), ('n07720875', 'bell_pepper', 0.23937985), ('n03786901', 'mortar', 0.13991134)])\n",
      "('trex.jpg', [('n01704323', 'triceratops', 0.40456372), ('n04296562', 'stage', 0.14650217), ('n01443537', 'goldfish', 0.12602219)])\n",
      "('gremlin.jpg', [('n02123597', 'Siamese_cat', 0.6006967), ('n03887697', 'paper_towel', 0.09552809), ('n02127052', 'lynx', 0.03564134)])\n"
     ]
    }
   ],
   "source": [
    "for i,name in enumerate(images):\n",
    "    \n",
    "    if name != '.ipynb_checkpoints':\n",
    "        img = cv2.imread(img_path + '/' + name)\n",
    "        img = cv2.resize(img, (224,224))\n",
    "        x = image.img_to_array(img)\n",
    "        x = np.expand_dims(x, axis=0)\n",
    "        x = preprocess_input(x)\n",
    "\n",
    "        preds = model.predict(x)\n",
    "        \n",
    "        decpr = name, decode_predictions(preds, top=3)[0]\n",
    "\n",
    "        print(decpr) \n",
    "        \n",
    "        with open('results/6_3_predictions.txt', 'w') as f:\n",
    "            f.write(decpr[0])\n",
    "    else:\n",
    "        pass"
   ]
  },
  {
   "cell_type": "code",
   "execution_count": null,
   "metadata": {},
   "outputs": [],
   "source": []
  }
 ],
 "metadata": {
  "kernelspec": {
   "display_name": "Python 3",
   "language": "python",
   "name": "python3"
  },
  "language_info": {
   "codemirror_mode": {
    "name": "ipython",
    "version": 3
   },
   "file_extension": ".py",
   "mimetype": "text/x-python",
   "name": "python",
   "nbconvert_exporter": "python",
   "pygments_lexer": "ipython3",
   "version": "3.8.3"
  }
 },
 "nbformat": 4,
 "nbformat_minor": 4
}
