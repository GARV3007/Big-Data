{
 "cells": [
  {
   "cell_type": "markdown",
   "metadata": {},
   "source": [
    "# Assignment 6.2b\n",
    "## CIFAR10 Classification with dropout and augmentation\n",
    "### Rebecca Lewis"
   ]
  },
  {
   "cell_type": "code",
   "execution_count": 1,
   "metadata": {},
   "outputs": [],
   "source": [
    "from keras.datasets import cifar10\n",
    "from keras.utils import to_categorical\n",
    "from keras.preprocessing.image import ImageDataGenerator\n",
    "\n",
    "(x_train, y_train), (x_test, y_test) = cifar10.load_data()"
   ]
  },
  {
   "cell_type": "code",
   "execution_count": 2,
   "metadata": {},
   "outputs": [
    {
     "data": {
      "text/plain": [
       "((50000, 32, 32, 3), (50000, 1))"
      ]
     },
     "execution_count": 2,
     "metadata": {},
     "output_type": "execute_result"
    }
   ],
   "source": [
    "x_train.shape, y_train.shape"
   ]
  },
  {
   "cell_type": "code",
   "execution_count": 3,
   "metadata": {},
   "outputs": [
    {
     "data": {
      "text/plain": [
       "((10000, 32, 32, 3), (10000, 1))"
      ]
     },
     "execution_count": 3,
     "metadata": {},
     "output_type": "execute_result"
    }
   ],
   "source": [
    "x_test.shape, y_test.shape"
   ]
  },
  {
   "cell_type": "code",
   "execution_count": 4,
   "metadata": {},
   "outputs": [],
   "source": [
    "# Preprocess the data (these are NumPy arrays)\n",
    "x_train = x_train.astype(\"float32\")\n",
    "x_test = x_test.astype(\"float32\")\n",
    "\n",
    "y_train = to_categorical(y_train)\n",
    "y_test = to_categorical(y_test)"
   ]
  },
  {
   "cell_type": "code",
   "execution_count": 5,
   "metadata": {},
   "outputs": [],
   "source": [
    "# Reserve 10,000 samples for validation\n",
    "x_val = x_train[-10000:]\n",
    "y_val = y_train[-10000:]\n",
    "x_train_2 = x_train[:-10000]\n",
    "y_train_2 = y_train[:-10000]"
   ]
  },
  {
   "cell_type": "code",
   "execution_count": 6,
   "metadata": {},
   "outputs": [],
   "source": [
    "train_datagen = ImageDataGenerator(rescale=1./255,\n",
    "                                  rotation_range=40,\n",
    "                                  width_shift_range=0.2,\n",
    "                                  height_shift_range=0.2,\n",
    "                                  shear_range=0.2,\n",
    "                                  zoom_range=0.2,\n",
    "                                  horizontal_flip=True)\n",
    "\n",
    "test_datagen = ImageDataGenerator(rescale=1./255)\n",
    "\n",
    "train_generator = train_datagen.flow(x_train_2, y_train_2,  batch_size=32)\n",
    "\n",
    "validation_generator = train_datagen.flow(x_val, y_val, batch_size=32)\n",
    "\n"
   ]
  },
  {
   "cell_type": "code",
   "execution_count": 7,
   "metadata": {},
   "outputs": [
    {
     "name": "stdout",
     "output_type": "stream",
     "text": [
      "Model: \"sequential\"\n",
      "_________________________________________________________________\n",
      "Layer (type)                 Output Shape              Param #   \n",
      "=================================================================\n",
      "conv2d (Conv2D)              (None, 30, 30, 32)        896       \n",
      "_________________________________________________________________\n",
      "max_pooling2d (MaxPooling2D) (None, 15, 15, 32)        0         \n",
      "_________________________________________________________________\n",
      "conv2d_1 (Conv2D)            (None, 13, 13, 64)        18496     \n",
      "_________________________________________________________________\n",
      "max_pooling2d_1 (MaxPooling2 (None, 6, 6, 64)          0         \n",
      "_________________________________________________________________\n",
      "conv2d_2 (Conv2D)            (None, 4, 4, 64)          36928     \n",
      "_________________________________________________________________\n",
      "max_pooling2d_2 (MaxPooling2 (None, 2, 2, 64)          0         \n",
      "_________________________________________________________________\n",
      "flatten (Flatten)            (None, 256)               0         \n",
      "_________________________________________________________________\n",
      "dropout (Dropout)            (None, 256)               0         \n",
      "_________________________________________________________________\n",
      "dense (Dense)                (None, 64)                16448     \n",
      "_________________________________________________________________\n",
      "dense_1 (Dense)              (None, 10)                650       \n",
      "=================================================================\n",
      "Total params: 73,418\n",
      "Trainable params: 73,418\n",
      "Non-trainable params: 0\n",
      "_________________________________________________________________\n"
     ]
    }
   ],
   "source": [
    "#instantiate the model\n",
    "from keras import models\n",
    "from keras import layers\n",
    "\n",
    "model = models.Sequential()\n",
    "model.add(layers.Conv2D(32, (3,3), activation='relu', input_shape=(32,32,3)))\n",
    "model.add(layers.MaxPooling2D(2,2))\n",
    "model.add(layers.Conv2D(64, (3,3), activation='relu'))\n",
    "model.add(layers.MaxPooling2D(2,2))\n",
    "model.add(layers.Conv2D(64, (3,3), activation='relu'))\n",
    "model.add(layers.MaxPooling2D(2,2))\n",
    "model.add(layers.Flatten())\n",
    "model.add(layers.Dropout(0.5))\n",
    "model.add(layers.Dense(64, activation='relu'))\n",
    "model.add(layers.Dense(10, activation='softmax'))\n",
    "\n",
    "model.summary()"
   ]
  },
  {
   "cell_type": "code",
   "execution_count": 8,
   "metadata": {},
   "outputs": [],
   "source": [
    "from keras import optimizers\n",
    "\n",
    "model.compile(optimizer=optimizers.RMSprop(lr=1e-4),\n",
    "             loss='categorical_crossentropy',\n",
    "             metrics=['accuracy'])"
   ]
  },
  {
   "cell_type": "code",
   "execution_count": 9,
   "metadata": {},
   "outputs": [
    {
     "name": "stdout",
     "output_type": "stream",
     "text": [
      "WARNING:tensorflow:From <ipython-input-9-f55e5816947f>:1: Model.fit_generator (from tensorflow.python.keras.engine.training) is deprecated and will be removed in a future version.\n",
      "Instructions for updating:\n",
      "Please use Model.fit, which supports generators.\n",
      "Epoch 1/30\n",
      "1250/1250 [==============================] - 57s 45ms/step - loss: 2.1382 - accuracy: 0.1942 - val_loss: 1.9796 - val_accuracy: 0.2622\n",
      "Epoch 2/30\n",
      "1250/1250 [==============================] - 57s 46ms/step - loss: 1.9635 - accuracy: 0.2637 - val_loss: 1.8980 - val_accuracy: 0.3006\n",
      "Epoch 3/30\n",
      "1250/1250 [==============================] - 57s 45ms/step - loss: 1.8951 - accuracy: 0.2934 - val_loss: 1.8413 - val_accuracy: 0.3206\n",
      "Epoch 4/30\n",
      "1250/1250 [==============================] - 57s 45ms/step - loss: 1.8476 - accuracy: 0.3144 - val_loss: 1.7974 - val_accuracy: 0.3356\n",
      "Epoch 5/30\n",
      "1250/1250 [==============================] - 57s 46ms/step - loss: 1.8097 - accuracy: 0.3327 - val_loss: 1.7739 - val_accuracy: 0.3492\n",
      "Epoch 6/30\n",
      "1250/1250 [==============================] - 56s 45ms/step - loss: 1.7828 - accuracy: 0.3434 - val_loss: 1.7174 - val_accuracy: 0.3667\n",
      "Epoch 7/30\n",
      "1250/1250 [==============================] - 57s 45ms/step - loss: 1.7575 - accuracy: 0.3541 - val_loss: 1.7039 - val_accuracy: 0.3862\n",
      "Epoch 8/30\n",
      "1250/1250 [==============================] - 57s 45ms/step - loss: 1.7322 - accuracy: 0.3658 - val_loss: 1.7006 - val_accuracy: 0.3813\n",
      "Epoch 9/30\n",
      "1250/1250 [==============================] - 57s 45ms/step - loss: 1.7120 - accuracy: 0.3720 - val_loss: 1.6684 - val_accuracy: 0.3886\n",
      "Epoch 10/30\n",
      "1250/1250 [==============================] - 57s 45ms/step - loss: 1.6902 - accuracy: 0.3827 - val_loss: 1.6418 - val_accuracy: 0.4011\n",
      "Epoch 11/30\n",
      "1250/1250 [==============================] - 56s 45ms/step - loss: 1.6786 - accuracy: 0.3885 - val_loss: 1.6507 - val_accuracy: 0.4052\n",
      "Epoch 12/30\n",
      "1250/1250 [==============================] - 57s 46ms/step - loss: 1.6586 - accuracy: 0.3953 - val_loss: 1.6011 - val_accuracy: 0.4256\n",
      "Epoch 13/30\n",
      "1250/1250 [==============================] - 57s 45ms/step - loss: 1.6504 - accuracy: 0.3984 - val_loss: 1.5918 - val_accuracy: 0.4258\n",
      "Epoch 14/30\n",
      "1250/1250 [==============================] - 56s 45ms/step - loss: 1.6330 - accuracy: 0.4060 - val_loss: 1.5959 - val_accuracy: 0.4262\n",
      "Epoch 15/30\n",
      "1250/1250 [==============================] - 57s 45ms/step - loss: 1.6237 - accuracy: 0.4133 - val_loss: 1.5644 - val_accuracy: 0.4395\n",
      "Epoch 16/30\n",
      "1250/1250 [==============================] - 57s 45ms/step - loss: 1.6105 - accuracy: 0.4175 - val_loss: 1.5354 - val_accuracy: 0.4435\n",
      "Epoch 17/30\n",
      "1250/1250 [==============================] - 57s 45ms/step - loss: 1.5935 - accuracy: 0.4238 - val_loss: 1.5347 - val_accuracy: 0.4531\n",
      "Epoch 18/30\n",
      "1250/1250 [==============================] - 57s 45ms/step - loss: 1.5891 - accuracy: 0.4275 - val_loss: 1.5192 - val_accuracy: 0.4517\n",
      "Epoch 19/30\n",
      "1250/1250 [==============================] - 57s 45ms/step - loss: 1.5734 - accuracy: 0.4322 - val_loss: 1.5413 - val_accuracy: 0.4420\n",
      "Epoch 20/30\n",
      "1250/1250 [==============================] - 57s 45ms/step - loss: 1.5681 - accuracy: 0.4370 - val_loss: 1.5105 - val_accuracy: 0.4630\n",
      "Epoch 21/30\n",
      "1250/1250 [==============================] - 55s 44ms/step - loss: 1.5533 - accuracy: 0.4394 - val_loss: 1.4961 - val_accuracy: 0.4579\n",
      "Epoch 22/30\n",
      "1250/1250 [==============================] - 56s 45ms/step - loss: 1.5494 - accuracy: 0.4416 - val_loss: 1.4896 - val_accuracy: 0.4620\n",
      "Epoch 23/30\n",
      "1250/1250 [==============================] - 56s 45ms/step - loss: 1.5399 - accuracy: 0.4458 - val_loss: 1.4646 - val_accuracy: 0.4741\n",
      "Epoch 24/30\n",
      "1250/1250 [==============================] - 50s 40ms/step - loss: 1.5295 - accuracy: 0.4480 - val_loss: 1.4698 - val_accuracy: 0.4704\n",
      "Epoch 25/30\n",
      "1250/1250 [==============================] - 42s 34ms/step - loss: 1.5204 - accuracy: 0.4508 - val_loss: 1.4603 - val_accuracy: 0.4799\n",
      "Epoch 26/30\n",
      "1250/1250 [==============================] - 43s 34ms/step - loss: 1.5152 - accuracy: 0.4560 - val_loss: 1.4391 - val_accuracy: 0.4839\n",
      "Epoch 27/30\n",
      "1250/1250 [==============================] - 42s 34ms/step - loss: 1.5025 - accuracy: 0.4622 - val_loss: 1.4354 - val_accuracy: 0.4864\n",
      "Epoch 28/30\n",
      "1250/1250 [==============================] - 43s 34ms/step - loss: 1.5018 - accuracy: 0.4585 - val_loss: 1.4408 - val_accuracy: 0.4823\n",
      "Epoch 29/30\n",
      "1250/1250 [==============================] - 42s 34ms/step - loss: 1.4927 - accuracy: 0.4623 - val_loss: 1.4120 - val_accuracy: 0.4973\n",
      "Epoch 30/30\n",
      "1250/1250 [==============================] - 42s 34ms/step - loss: 1.4832 - accuracy: 0.4670 - val_loss: 1.4111 - val_accuracy: 0.4938\n"
     ]
    }
   ],
   "source": [
    "history = model.fit_generator(train_generator,\n",
    "                             steps_per_epoch=len(x_train_2) / 32,\n",
    "                             epochs=30,\n",
    "                             validation_data=validation_generator,\n",
    "                             validation_steps=len(x_val) / 32)"
   ]
  },
  {
   "cell_type": "code",
   "execution_count": 10,
   "metadata": {},
   "outputs": [
    {
     "data": {
      "image/png": "[encoded data removed]",
      "text/plain": [
       "<Figure size 432x288 with 1 Axes>"
      ]
     },
     "metadata": {
      "needs_background": "light"
     },
     "output_type": "display_data"
    },
    {
     "data": {
      "text/plain": [
       "<Figure size 432x288 with 0 Axes>"
      ]
     },
     "metadata": {},
     "output_type": "display_data"
    }
   ],
   "source": [
    "import matplotlib.pyplot as plt\n",
    "\n",
    "train_loss = history.history['loss']\n",
    "val_loss = history.history['val_loss']\n",
    "\n",
    "epochs = range(1, len(history.history['loss']) + 1)\n",
    "\n",
    "plt.plot(epochs, train_loss, 'bo', label='Training loss')\n",
    "plt.plot(epochs, val_loss, 'b', label='Validation loss')\n",
    "plt.title('Training and Validation Losses')\n",
    "plt.xlabel('Epochs')\n",
    "plt.ylabel('Loss')\n",
    "plt.legend()\n",
    "\n",
    "plt.show()\n",
    "plt.savefig('results/6_2b_lossplot.png')"
   ]
  },
  {
   "cell_type": "code",
   "execution_count": 11,
   "metadata": {},
   "outputs": [
    {
     "data": {
      "image/png": "[encoded data removed]",
      "text/plain": [
       "<Figure size 432x288 with 1 Axes>"
      ]
     },
     "metadata": {
      "needs_background": "light"
     },
     "output_type": "display_data"
    },
    {
     "data": {
      "text/plain": [
       "<Figure size 432x288 with 0 Axes>"
      ]
     },
     "metadata": {},
     "output_type": "display_data"
    }
   ],
   "source": [
    "import matplotlib.pyplot as plt\n",
    "\n",
    "train_loss = history.history['accuracy']\n",
    "val_loss = history.history['val_accuracy']\n",
    "\n",
    "epochs = range(1, len(history.history['accuracy']) + 1)\n",
    "\n",
    "plt.plot(epochs, train_loss, 'bo', label='Training accuracy')\n",
    "plt.plot(epochs, val_loss, 'b', label='Validation accuracy')\n",
    "plt.title('Training and Validation Accuracy')\n",
    "plt.xlabel('Epochs')\n",
    "plt.ylabel('Accuracy')\n",
    "plt.legend()\n",
    "\n",
    "plt.show()\n",
    "plt.savefig('results/6_2b_accplot.png')"
   ]
  },
  {
   "cell_type": "code",
   "execution_count": 12,
   "metadata": {},
   "outputs": [
    {
     "name": "stdout",
     "output_type": "stream",
     "text": [
      "Epoch 1/16\n",
      "1563/1562 [==============================] - 44s 28ms/step - loss: 1.4845 - accuracy: 0.4659\n",
      "Epoch 2/16\n",
      "1563/1562 [==============================] - 43s 27ms/step - loss: 1.4762 - accuracy: 0.4699\n",
      "Epoch 3/16\n",
      "1563/1562 [==============================] - 43s 28ms/step - loss: 1.4714 - accuracy: 0.4741\n",
      "Epoch 4/16\n",
      "1563/1562 [==============================] - 43s 28ms/step - loss: 1.4599 - accuracy: 0.4794\n",
      "Epoch 5/16\n",
      "1563/1562 [==============================] - 43s 28ms/step - loss: 1.4577 - accuracy: 0.4814\n",
      "Epoch 6/16\n",
      "1563/1562 [==============================] - 44s 28ms/step - loss: 1.4425 - accuracy: 0.4831\n",
      "Epoch 7/16\n",
      "1563/1562 [==============================] - 43s 28ms/step - loss: 1.4419 - accuracy: 0.4871\n",
      "Epoch 8/16\n",
      "1563/1562 [==============================] - 44s 28ms/step - loss: 1.4366 - accuracy: 0.4879\n",
      "Epoch 9/16\n",
      "1563/1562 [==============================] - 43s 28ms/step - loss: 1.4326 - accuracy: 0.4883\n",
      "Epoch 10/16\n",
      "1563/1562 [==============================] - 44s 28ms/step - loss: 1.4262 - accuracy: 0.4936\n",
      "Epoch 11/16\n",
      "1563/1562 [==============================] - 43s 28ms/step - loss: 1.4185 - accuracy: 0.4952\n",
      "Epoch 12/16\n",
      "1563/1562 [==============================] - 43s 28ms/step - loss: 1.4111 - accuracy: 0.4983\n",
      "Epoch 13/16\n",
      "1563/1562 [==============================] - 43s 28ms/step - loss: 1.4107 - accuracy: 0.4959\n",
      "Epoch 14/16\n",
      "1563/1562 [==============================] - 44s 28ms/step - loss: 1.4067 - accuracy: 0.4972\n",
      "Epoch 15/16\n",
      "1563/1562 [==============================] - 43s 28ms/step - loss: 1.3949 - accuracy: 0.5035\n",
      "Epoch 16/16\n",
      "1563/1562 [==============================] - 43s 27ms/step - loss: 1.3926 - accuracy: 0.5048\n",
      "313/313 [==============================] - 1s 4ms/step - loss: 212.1749 - accuracy: 0.4167\n"
     ]
    }
   ],
   "source": [
    "#retrain the model and evaluate on test\n",
    "train_generator = train_datagen.flow(x_train, y_train,  batch_size=32)\n",
    "\n",
    "model.compile(optimizer=optimizers.RMSprop(lr=1e-4),\n",
    "             loss='categorical_crossentropy',\n",
    "             metrics=['accuracy'])\n",
    "\n",
    "#16 epochs chosen based on graphs above\n",
    "history = model.fit_generator(train_generator,\n",
    "                             steps_per_epoch=len(x_train) / 32,\n",
    "                             epochs=16)\n",
    "results = model.evaluate(x_test, y_test)"
   ]
  },
  {
   "cell_type": "code",
   "execution_count": 13,
   "metadata": {},
   "outputs": [],
   "source": [
    "model.save('results/6_2b_model.h5')"
   ]
  },
  {
   "cell_type": "code",
   "execution_count": 14,
   "metadata": {},
   "outputs": [],
   "source": [
    "prediction_results = model.predict(x_test)"
   ]
  },
  {
   "cell_type": "code",
   "execution_count": 15,
   "metadata": {},
   "outputs": [],
   "source": [
    "#write metrics to file\n",
    "with open('results/6_2b_metrics.txt', 'w') as f:\n",
    "    f.write('Training Loss: {}'.format(str(history.history['loss'])))\n",
    "    f.write('\\nTraining Accuracy: {}'.format(str(history.history['accuracy'])))\n",
    "    f.write('\\nTest Loss: {}'.format(results[0]))\n",
    "    f.write('\\nTest Accuracy: {}'.format(results[1]))"
   ]
  },
  {
   "cell_type": "code",
   "execution_count": 16,
   "metadata": {},
   "outputs": [],
   "source": [
    "import pandas as pd\n",
    "\n",
    "predictions = pd.DataFrame(prediction_results, columns=['0','1','2','3','4','5','6','7','8','9'])\n",
    "predictions.to_csv('results/6_2b_predictions.csv', index=False)"
   ]
  },
  {
   "cell_type": "code",
   "execution_count": null,
   "metadata": {},
   "outputs": [],
   "source": []
  }
 ],
 "metadata": {
  "kernelspec": {
   "display_name": "Python 3",
   "language": "python",
   "name": "python3"
  },
  "language_info": {
   "codemirror_mode": {
    "name": "ipython",
    "version": 3
   },
   "file_extension": ".py",
   "mimetype": "text/x-python",
   "name": "python",
   "nbconvert_exporter": "python",
   "pygments_lexer": "ipython3",
   "version": "3.8.3"
  }
 },
 "nbformat": 4,
 "nbformat_minor": 4
}
